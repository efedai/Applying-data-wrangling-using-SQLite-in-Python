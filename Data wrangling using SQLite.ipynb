{
 "cells": [
  {
   "cell_type": "code",
   "execution_count": 1,
   "metadata": {},
   "outputs": [],
   "source": [
    "import sqlite3"
   ]
  },
  {
   "cell_type": "code",
   "execution_count": 3,
   "metadata": {},
   "outputs": [],
   "source": [
    "connection = sqlite3.connect(\"petsdb-Copy1\")"
   ]
  },
  {
   "cell_type": "code",
   "execution_count": 9,
   "metadata": {},
   "outputs": [],
   "source": [
    "# function to check connection \n",
    "def is_opened(connection):\n",
    "    try:\n",
    "        connect.execute(\"SELECT * FROM persons LIMIT 1\")\n",
    "        return 'Yes'\n",
    "    except sqlite3.ProgrammingError as e:\n",
    "        print(\"Connection closed {}\".format(e))\n",
    "        return 'No'"
   ]
  },
  {
   "cell_type": "code",
   "execution_count": 10,
   "metadata": {},
   "outputs": [
    {
     "name": "stdout",
     "output_type": "stream",
     "text": [
      "Yes\n"
     ]
    }
   ],
   "source": [
    "print(is_opened(connection))         # checking to see if connection worked"
   ]
  },
  {
   "cell_type": "code",
   "execution_count": 12,
   "metadata": {},
   "outputs": [],
   "source": [
    "connect.close()                     # closing connection"
   ]
  },
  {
   "cell_type": "code",
   "execution_count": 13,
   "metadata": {},
   "outputs": [
    {
     "name": "stdout",
     "output_type": "stream",
     "text": [
      "Connection closed Cannot operate on a closed database.\n",
      "No\n"
     ]
    }
   ],
   "source": [
    "print(is_opened(connect))           # checking if connection works after closing"
   ]
  },
  {
   "cell_type": "code",
   "execution_count": 14,
   "metadata": {},
   "outputs": [],
   "source": [
    "connection = sqlite3.connect('petsdb-Copy1')     # setting connection for the petsdb database"
   ]
  },
  {
   "cell_type": "code",
   "execution_count": 15,
   "metadata": {},
   "outputs": [],
   "source": [
    "container = connection.cursor()                   # connecting to the database"
   ]
  },
  {
   "cell_type": "code",
   "execution_count": 17,
   "metadata": {},
   "outputs": [
    {
     "name": "stdout",
     "output_type": "stream",
     "text": [
      "There are 2 people at age 5\n",
      "There are 1 people at age 6\n",
      "There are 1 people at age 7\n",
      "There are 3 people at age 8\n",
      "There are 1 people at age 9\n",
      "There are 2 people at age 11\n",
      "There are 3 people at age 12\n",
      "There are 1 people at age 13\n",
      "There are 4 people at age 14\n",
      "There are 2 people at age 16\n",
      "There are 2 people at age 17\n",
      "There are 3 people at age 18\n",
      "There are 1 people at age 19\n",
      "There are 3 people at age 22\n",
      "There are 2 people at age 23\n",
      "There are 3 people at age 24\n",
      "There are 2 people at age 25\n",
      "There are 1 people at age 27\n",
      "There are 1 people at age 30\n",
      "There are 3 people at age 31\n",
      "There are 1 people at age 32\n",
      "There are 1 people at age 33\n",
      "There are 2 people at age 34\n",
      "There are 3 people at age 35\n",
      "There are 3 people at age 36\n",
      "There are 1 people at age 37\n",
      "There are 2 people at age 39\n",
      "There are 1 people at age 40\n",
      "There are 1 people at age 42\n",
      "There are 2 people at age 44\n",
      "There are 2 people at age 48\n",
      "There are 1 people at age 49\n",
      "There are 1 people at age 50\n",
      "There are 2 people at age 51\n",
      "There are 2 people at age 52\n",
      "There are 2 people at age 53\n",
      "There are 2 people at age 54\n",
      "There are 1 people at age 58\n",
      "There are 1 people at age 59\n",
      "There are 1 people at age 60\n",
      "There are 1 people at age 61\n",
      "There are 2 people at age 62\n",
      "There are 1 people at age 63\n",
      "There are 2 people at age 65\n",
      "There are 2 people at age 66\n",
      "There are 1 people at age 67\n",
      "There are 3 people at age 68\n",
      "There are 1 people at age 69\n",
      "There are 1 people at age 70\n",
      "There are 4 people at age 71\n",
      "There are 1 people at age 72\n",
      "There are 5 people at age 73\n",
      "There are 3 people at age 74\n"
     ]
    }
   ],
   "source": [
    "# using for statement to get the number of people per different age groups from the database\n",
    "\n",
    "for ppl, age in container.execute(\"SELECT count(*), age FROM persons GROUP BY age\"):\n",
    "    print(\"There are {} people at age {}\".format(ppl, age))"
   ]
  },
  {
   "cell_type": "code",
   "execution_count": 19,
   "metadata": {},
   "outputs": [
    {
     "name": "stdout",
     "output_type": "stream",
     "text": [
      "Maximum number of people is 5 and they came from the 73 age group\n"
     ]
    }
   ],
   "source": [
    "# using for statement to get the age group with the highest number of people.\n",
    "\n",
    "for ppl, age in container.execute(\"SELECT count(*), age FROM persons GROUP BY age ORDER BY count(*) DESC\"):\n",
    "    print(\"Maximum number of people is {} and they came from the {} age group\".format(ppl, age))\n",
    "    break"
   ]
  },
  {
   "cell_type": "code",
   "execution_count": 20,
   "metadata": {},
   "outputs": [
    {
     "name": "stdout",
     "output_type": "stream",
     "text": [
      "(60,)\n"
     ]
    }
   ],
   "source": [
    "# number of people who do not have a last name(null)\n",
    "\n",
    "no_last_name = container.execute(\"SELECT count(*) FROM persons WHERE last_name IS null\")\n",
    "for row in no_last_name:\n",
    "    print(row)"
   ]
  },
  {
   "cell_type": "code",
   "execution_count": 21,
   "metadata": {},
   "outputs": [
    {
     "name": "stdout",
     "output_type": "stream",
     "text": [
      "43 People has more than one pets\n"
     ]
    }
   ],
   "source": [
    "# using for statement to pull total count of people with more than one pet out of database.\n",
    "\n",
    "more_pets = container.execute(\"SELECT count(*) FROM (SELECT count(owner_id) FROM pets GROUP BY owner_id HAVING count(owner_id) >1)\")\n",
    "for row in more_pets:\n",
    "    print(\"{} People have more than one pet\".format(row[0]))"
   ]
  },
  {
   "cell_type": "code",
   "execution_count": 22,
   "metadata": {},
   "outputs": [
    {
     "name": "stdout",
     "output_type": "stream",
     "text": [
      "(36,)\n"
     ]
    }
   ],
   "source": [
    "# pulling total number of pets that recieved treatment.\n",
    "\n",
    "treatment = container.execute(\"SELECT count(*) FROM pets WHERE treatment_done=1\")\n",
    "for row in treatment:\n",
    "    print(row)"
   ]
  },
  {
   "cell_type": "code",
   "execution_count": 23,
   "metadata": {},
   "outputs": [
    {
     "name": "stdout",
     "output_type": "stream",
     "text": [
      "(49,)\n"
     ]
    }
   ],
   "source": [
    "# pulling total number of pets from the city east port.\n",
    "\n",
    "total_east_port = container.execute(\"SELECT count(*) FROM pets JOIN persons ON pets.owner_id = persons.id WHERE persons.city='east port'\")\n",
    "for row in total_east_port:\n",
    "    print(row)"
   ]
  },
  {
   "cell_type": "code",
   "execution_count": 24,
   "metadata": {},
   "outputs": [
    {
     "name": "stdout",
     "output_type": "stream",
     "text": [
      "(11,)\n"
     ]
    }
   ],
   "source": [
    "# pulling total number of pets from east port and recieved treatment.\n",
    "\n",
    "treatment_east_port = container.execute(\"SELECT count(*) FROM pets JOIN persons ON pets.owner_id = persons.id WHERE persons.city='east port' AND pets.treatment_done=1\")\n",
    "for row in treatment_east_port:\n",
    "    print(row)"
   ]
  },
  {
   "cell_type": "code",
   "execution_count": null,
   "metadata": {},
   "outputs": [],
   "source": []
  }
 ],
 "metadata": {
  "kernelspec": {
   "display_name": "Python 3",
   "language": "python",
   "name": "python3"
  },
  "language_info": {
   "codemirror_mode": {
    "name": "ipython",
    "version": 3
   },
   "file_extension": ".py",
   "mimetype": "text/x-python",
   "name": "python",
   "nbconvert_exporter": "python",
   "pygments_lexer": "ipython3",
   "version": "3.8.8"
  }
 },
 "nbformat": 4,
 "nbformat_minor": 2
}
